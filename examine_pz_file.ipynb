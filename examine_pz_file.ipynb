{
 "cells": [
  {
   "cell_type": "markdown",
   "id": "c79a1f9a",
   "metadata": {},
   "source": [
    "# Examine `.pz` File Data\n",
    "\n",
    "A Jupyter notebook to load a `.pz` file and examine the `usgs_test_original` array."
   ]
  },
  {
   "cell_type": "markdown",
   "id": "799fb75d",
   "metadata": {},
   "source": [
    "## Import Required Libraries\n",
    "Import libraries such as NumPy and Matplotlib for file loading and visualization."
   ]
  },
  {
   "cell_type": "code",
   "execution_count": null,
   "id": "a74598af",
   "metadata": {},
   "outputs": [],
   "source": [
    "import numpy as np\n",
    "import matplotlib.pyplot as plt\n",
    "import os # Import os to construct file paths reliably"
   ]
  },
  {
   "cell_type": "markdown",
   "id": "7d6ceefb",
   "metadata": {},
   "source": [
    "## Load the `.pz` File\n",
    "Use NumPy's load function to load the test `.pz` file and extract its contents. Make sure the `.pz` file is in the same directory or provide the correct path."
   ]
  },
  {
   "cell_type": "code",
   "execution_count": null,
   "id": "96d77c3d",
   "metadata": {},
   "outputs": [],
   "source": [
    "# Define the path to the .pz file\n",
    "# IMPORTANT: Replace 'your_test_file.pz' with the actual filename.\n",
    "file_name = 'data/processed/test/20380357.npz' # Example filename, change if needed\n",
    "file_path = os.path.join('.', file_name) # Assumes file is in the same directory as the notebook\n",
    "\n",
    "# Check if the file exists before attempting to load\n",
    "if os.path.exists(file_path):\n",
    "    # Load the .pz file\n",
    "    try:\n",
    "        loaded_data = np.load(file_path, allow_pickle=True)\n",
    "        print(f\"Successfully loaded '{file_name}'.\")\n",
    "        # List the arrays contained within the file\n",
    "        print(\"Arrays in file:\", list(loaded_data.keys()))\n",
    "    except Exception as e:\n",
    "        print(f\"Error loading file '{file_name}': {e}\")\n",
    "        loaded_data = None\n",
    "else:\n",
    "    print(f\"Error: File not found at '{file_path}'\")\n",
    "    loaded_data = None"
   ]
  },
  {
   "cell_type": "markdown",
   "id": "79781efc",
   "metadata": {},
   "source": [
    "## Examine the `usgs_test_original` Array\n",
    "Access the `usgs_test_original` array from the loaded file and print its shape, data type, and a sample of its values."
   ]
  },
  {
   "cell_type": "code",
   "execution_count": null,
   "id": "757956b0",
   "metadata": {},
   "outputs": [],
   "source": [
    "# Check if data was loaded successfully and the key exists\n",
    "if loaded_data is not None and 'usgs_test_original' in loaded_data:\n",
    "    # Access the array\n",
    "    usgs_test_original = loaded_data['usgs_test_original']\n",
    "\n",
    "    # Print shape and data type\n",
    "    print(\"Shape of 'usgs_test_original':\", usgs_test_original.shape)\n",
    "    print(\"Data type of 'usgs_test_original':\", usgs_test_original.dtype)\n",
    "\n",
    "    # Print a sample of the values (e.g., the first 5 elements/rows)\n",
    "    print(\"\\nSample values (first 5 elements/rows):\")\n",
    "    # Adjust slicing based on the array's dimensions\n",
    "    if usgs_test_original.ndim == 1:\n",
    "        print(usgs_test_original[:5])\n",
    "    elif usgs_test_original.ndim >= 2:\n",
    "        print(usgs_test_original[:5, ...]) # Print first 5 rows, all columns\n",
    "    else:\n",
    "        print(usgs_test_original) # Print the whole array if 0-dim\n",
    "\n",
    "    # Close the file handle\n",
    "    loaded_data.close()\n",
    "elif loaded_data is not None:\n",
    "    print(\"Error: 'usgs_test_original' key not found in the loaded file.\")\n",
    "    print(\"Available keys:\", list(loaded_data.keys()))\n",
    "    loaded_data.close()\n",
    "else:\n",
    "    print(\"Cannot examine array because the file was not loaded.\")"
   ]
  },
  {
   "cell_type": "markdown",
   "id": "ff8160cb",
   "metadata": {},
   "source": [
    "## Visualize the Array\n",
    "Use Matplotlib to create a visualization (e.g., a heatmap or image) of the `usgs_test_original` array. This is most effective for 2D arrays."
   ]
  },
  {
   "cell_type": "code",
   "execution_count": null,
   "id": "14774756",
   "metadata": {},
   "outputs": [],
   "source": [
    "# Check if the array exists and is suitable for visualization (e.g., 2D)\n",
    "if 'usgs_test_original' in locals() and isinstance(usgs_test_original, np.ndarray):\n",
    "    if usgs_test_original.ndim == 2:\n",
    "        print(\"\\nVisualizing the array as a heatmap...\")\n",
    "        plt.figure(figsize=(10, 8))\n",
    "        plt.imshow(usgs_test_original, aspect='auto', cmap='viridis') # 'viridis' is a common colormap\n",
    "        plt.colorbar(label='Value')\n",
    "        plt.title('Visualization of usgs_test_original Array')\n",
    "        plt.xlabel('Column Index')\n",
    "        plt.ylabel('Row Index')\n",
    "        plt.show()\n",
    "    elif usgs_test_original.ndim == 1:\n",
    "        print(\"\\nVisualizing the array as a line plot...\")\n",
    "        plt.figure(figsize=(12, 4))\n",
    "        plt.plot(usgs_test_original)\n",
    "        plt.title('Visualization of usgs_test_original Array (1D)')\n",
    "        plt.xlabel('Index')\n",
    "        plt.ylabel('Value')\n",
    "        plt.grid(True)\n",
    "        plt.show()\n",
    "    else:\n",
    "        print(f\"\\nArray has {usgs_test_original.ndim} dimensions. Visualization might not be straightforward.\")\n",
    "        print(\"Consider reshaping or selecting slices for visualization.\")\n",
    "else:\n",
    "    print(\"\\nCannot visualize because 'usgs_test_original' array is not available or not loaded correctly.\")"
   ]
  },
  {
   "cell_type": "markdown",
   "id": "2af875c6",
   "metadata": {},
   "source": [
    "# Inspect Processed Test Data (.npz)"
   ]
  },
  {
   "cell_type": "markdown",
   "id": "be36bf94",
   "metadata": {},
   "source": [
    "This notebook loads a processed test data file (`.npz`) and examines the `usgs_test_original` array to understand its characteristics, particularly looking for zero values or other anomalies that might explain issues seen in evaluation plots."
   ]
  },
  {
   "cell_type": "code",
   "execution_count": null,
   "id": "18a1fc30",
   "metadata": {},
   "outputs": [],
   "source": [
    "import numpy as np\n",
    "import pandas as pd\n",
    "import os\n",
    "import matplotlib.pyplot as plt\n",
    "import seaborn as sns"
   ]
  },
  {
   "cell_type": "code",
   "execution_count": null,
   "id": "167ee283",
   "metadata": {},
   "outputs": [],
   "source": [
    "# --- Configuration ---\n",
    "# Define the station ID to inspect\n",
    "station_id = '21609641' # Options: '21609641', '20380357'\n",
    "\n",
    "# Define paths relative to the notebook location\n",
    "# Assuming the notebook is in the root of the project\n",
    "PROJECT_ROOT = os.getcwd() # Get current working directory\n",
    "PROCESSED_DATA_DIR = os.path.join(PROJECT_ROOT, 'data', 'processed')\n",
    "\n",
    "file_path = os.path.join(PROCESSED_DATA_DIR, 'test', f\"{station_id}.npz\")\n",
    "\n",
    "print(f\"Looking for file at: {file_path}\")"
   ]
  },
  {
   "cell_type": "code",
   "execution_count": null,
   "id": "61df716a",
   "metadata": {},
   "outputs": [],
   "source": [
    "# --- Load and Inspect Data ---\n",
    "try:\n",
    "    data = np.load(file_path, allow_pickle=True)\n",
    "    print(f\"Successfully loaded: {file_path}\")\n",
    "    print(f\"\\nAvailable keys in the file: {list(data.keys())}\")\n",
    "\n",
    "    if 'usgs_test_original' in data:\n",
    "        usgs_original = data['usgs_test_original']\n",
    "        print(f\"\\nShape of usgs_test_original: {usgs_original.shape}\")\n",
    "\n",
    "        # Convert to DataFrame for easier analysis\n",
    "        # Columns represent lead times (1h to 18h)\n",
    "        lead_times = [f\"lead_{i}h\" for i in range(1, usgs_original.shape[1] + 1)]\n",
    "        usgs_df = pd.DataFrame(usgs_original, columns=lead_times)\n",
    "\n",
    "        print(\"\\nBasic statistics for usgs_test_original (each column is a lead time):\")\n",
    "        # Use display for better formatting in notebooks\n",
    "        from IPython.display import display\n",
    "        display(usgs_df.describe())\n",
    "\n",
    "        # Check for zero values\n",
    "        zero_counts = (usgs_df == 0).sum()\n",
    "        print(\"\\nCounts of zero values per lead time:\")\n",
    "        print(zero_counts)\n",
    "\n",
    "        # Check for NaN values\n",
    "        nan_counts = usgs_df.isna().sum()\n",
    "        print(\"\\nCounts of NaN values per lead time:\")\n",
    "        print(nan_counts)\n",
    "\n",
    "        # Check for negative values\n",
    "        negative_counts = (usgs_df < 0).sum()\n",
    "        print(\"\\nCounts of negative values per lead time:\")\n",
    "        print(negative_counts)\n",
    "\n",
    "    else:\n",
    "        print(\"\\nError: Key 'usgs_test_original' not found in the file.\")\n",
    "\n",
    "except FileNotFoundError:\n",
    "    print(f\"Error: File not found at {file_path}\")\n",
    "except Exception as e:\n",
    "    print(f\"An error occurred: {e}\")"
   ]
  },
  {
   "cell_type": "markdown",
   "id": "112e2669",
   "metadata": {},
   "source": [
    "## Visualize Distribution"
   ]
  },
  {
   "cell_type": "code",
   "execution_count": null,
   "id": "c2a372f0",
   "metadata": {},
   "outputs": [],
   "source": [
    "# --- Visualize Data Distribution (Optional) ---\n",
    "if 'usgs_df' in locals(): # Check if the DataFrame was created successfully\n",
    "    print(\"\\nGenerating boxplot of USGS original values across lead times...\")\n",
    "    plt.figure(figsize=(15, 7))\n",
    "    sns.boxplot(data=usgs_df, showfliers=False) # showfliers=False matches evaluate.py\n",
    "    plt.title(f\"Distribution of usgs_test_original Values by Lead Time - Station {station_id}\")\n",
    "    plt.xlabel(\"Lead Time\")\n",
    "    plt.ylabel(\"USGS Flow Value (cms)\")\n",
    "    plt.xticks(rotation=45)\n",
    "    plt.grid(axis='y', linestyle='--', alpha=0.7)\n",
    "    plt.tight_layout()\n",
    "    plt.show()\n",
    "\n",
    "    # Plot histogram for a specific lead time (e.g., first lead time)\n",
    "    first_lead_time_col = usgs_df.columns[0]\n",
    "    print(f\"\\nGenerating histogram for the first lead time ({first_lead_time_col})...\")\n",
    "    plt.figure(figsize=(10, 5))\n",
    "    sns.histplot(usgs_df[first_lead_time_col].dropna(), kde=True)\n",
    "    plt.title(f\"Histogram of USGS Flow for {first_lead_time_col} - Station {station_id}\")\n",
    "    plt.xlabel(\"USGS Flow Value (cms)\")\n",
    "    plt.ylabel(\"Frequency\")\n",
    "    plt.grid(axis='y', linestyle='--', alpha=0.7)\n",
    "    plt.tight_layout()\n",
    "    plt.show()\n",
    "else:\n",
    "    print(\"\\nSkipping visualization because usgs_df was not created (likely due to file load error).\")"
   ]
  }
 ],
 "metadata": {
  "kernelspec": {
   "display_name": ".venv",
   "language": "python",
   "name": "python3"
  },
  "language_info": {
   "codemirror_mode": {
    "name": "ipython",
    "version": 3
   },
   "file_extension": ".py",
   "mimetype": "text/x-python",
   "name": "python",
   "nbconvert_exporter": "python",
   "pygments_lexer": "ipython3",
   "version": "3.10.17"
  }
 },
 "nbformat": 4,
 "nbformat_minor": 5
}
